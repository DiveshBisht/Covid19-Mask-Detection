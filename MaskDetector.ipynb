{
 "cells": [
  {
   "cell_type": "code",
   "execution_count": 4,
   "metadata": {
    "colab": {
     "base_uri": "https://localhost:8080/",
     "height": 122
    },
    "colab_type": "code",
    "id": "_9uOfl1aiO7R",
    "outputId": "fae53f3e-37cb-43a9-c64d-6c0a9412eb82"
   },
   "outputs": [
    {
     "name": "stdout",
     "output_type": "stream",
     "text": [
      "Go to this URL in a browser: https://accounts.google.com/o/oauth2/auth?client_id=947318989803-6bn6qk8qdgf4n4g3pfee6491hc0brc4i.apps.googleusercontent.com&redirect_uri=urn%3aietf%3awg%3aoauth%3a2.0%3aoob&scope=email%20https%3a%2f%2fwww.googleapis.com%2fauth%2fdocs.test%20https%3a%2f%2fwww.googleapis.com%2fauth%2fdrive%20https%3a%2f%2fwww.googleapis.com%2fauth%2fdrive.photos.readonly%20https%3a%2f%2fwww.googleapis.com%2fauth%2fpeopleapi.readonly&response_type=code\n",
      "\n",
      "Enter your authorization code:\n",
      "··········\n",
      "Mounted at /content/gdrive\n"
     ]
    }
   ],
   "source": [
    "from google.colab import drive\n",
    "drive.mount('/content/gdrive')"
   ]
  },
  {
   "cell_type": "code",
   "execution_count": 6,
   "metadata": {
    "colab": {
     "base_uri": "https://localhost:8080/",
     "height": 34
    },
    "colab_type": "code",
    "id": "bCaZIS30sR-g",
    "outputId": "fc8fe94f-67b2-48e0-c5c3-b54c09df908a"
   },
   "outputs": [
    {
     "name": "stdout",
     "output_type": "stream",
     "text": [
      "with_mask  without_mask\n"
     ]
    }
   ],
   "source": [
    "!ls \"/content/gdrive/My Drive/dataset\""
   ]
  },
  {
   "cell_type": "code",
   "execution_count": 11,
   "metadata": {
    "colab": {
     "base_uri": "https://localhost:8080/",
     "height": 68
    },
    "colab_type": "code",
    "id": "3hszXC5ms8Tz",
    "outputId": "9f47a144-97c3-44d0-8fef-25e551c6a8eb"
   },
   "outputs": [
    {
     "name": "stdout",
     "output_type": "stream",
     "text": [
      "['with_mask', 'without_mask']\n",
      "[0, 1]\n",
      "{'with_mask': 0, 'without_mask': 1}\n"
     ]
    }
   ],
   "source": [
    "import cv2, os\n",
    "\n",
    "data_path=\"/content/gdrive/My Drive/dataset\"\n",
    "categories=os.listdir(data_path)[::-1]\n",
    "labels=[i for i in range(len(categories))]\n",
    "labels_dict=dict(zip(categories,labels))\n",
    "\n",
    "print(categories)\n",
    "print(labels)\n",
    "print(labels_dict)"
   ]
  },
  {
   "cell_type": "code",
   "execution_count": 13,
   "metadata": {
    "colab": {},
    "colab_type": "code",
    "id": "281hdWHkuWrH"
   },
   "outputs": [],
   "source": [
    "img_size=100\n",
    "data=[]\n",
    "target=[]\n",
    "\n",
    "for category in categories:\n",
    "  folder_path=os.path.join(data_path, category)\n",
    "  img_names=os.listdir(folder_path)\n",
    "\n",
    "  for img_name in img_names:\n",
    "    img_path=os.path.join(folder_path,img_name)\n",
    "    img=cv2.imread(img_path)\n",
    "\n",
    "    try:\n",
    "      #converting the image into grayscale\n",
    "      gray_img=cv2.cvtColor(img, cv2.COLOR_BGR2GRAY)\n",
    "      #resizing the grayscale image to 100x100 (common fixed size for all images)\n",
    "      resized_img=cv2.resize(gray_img,(img_size,img_size))\n",
    "      data.append(resized_img)\n",
    "      target.append(labels_dict[category])\n",
    "\n",
    "    except Exception as e:\n",
    "      print('Exception:', e)\n"
   ]
  },
  {
   "cell_type": "code",
   "execution_count": 14,
   "metadata": {
    "colab": {
     "base_uri": "https://localhost:8080/",
     "height": 51
    },
    "colab_type": "code",
    "id": "_Wr3jfyG0HJO",
    "outputId": "ae79ed2e-2f0d-4919-f50c-1a6865586ffb"
   },
   "outputs": [
    {
     "name": "stdout",
     "output_type": "stream",
     "text": [
      "1376\n",
      "1376\n"
     ]
    }
   ],
   "source": [
    "print(len(data))\n",
    "print(len(target))"
   ]
  },
  {
   "cell_type": "code",
   "execution_count": 15,
   "metadata": {
    "colab": {
     "base_uri": "https://localhost:8080/",
     "height": 68
    },
    "colab_type": "code",
    "id": "86QdgoWB0Rss",
    "outputId": "4fa9a254-b8fe-4180-ce98-e3f16af74afc"
   },
   "outputs": [
    {
     "name": "stdout",
     "output_type": "stream",
     "text": [
      "(1376, 100, 100)\n",
      "(1376, 100, 100, 1)\n",
      "(1376,)\n"
     ]
    }
   ],
   "source": [
    "import numpy as np\n",
    "\n",
    "data=np.array(data)/255.0\n",
    "print(data.shape)\n",
    "data=np.reshape(data, (data.shape[0],img_size,img_size,1))\n",
    "print(data.shape)\n",
    "target = np.array(target)\n",
    "print(target.shape)"
   ]
  },
  {
   "cell_type": "code",
   "execution_count": 20,
   "metadata": {
    "colab": {
     "base_uri": "https://localhost:8080/",
     "height": 51
    },
    "colab_type": "code",
    "id": "pd7IWW4S1Di0",
    "outputId": "26b63674-fae9-472b-e859-cd5210158bc4"
   },
   "outputs": [
    {
     "name": "stdout",
     "output_type": "stream",
     "text": [
      "(1376, 2)\n",
      "[1. 0.]\n"
     ]
    }
   ],
   "source": [
    "from keras.utils import np_utils\n",
    "\n",
    "new_target=np_utils.to_categorical(target)\n",
    "print(new_target.shape)\n",
    "print(new_target[0])"
   ]
  },
  {
   "cell_type": "code",
   "execution_count": 33,
   "metadata": {
    "colab": {},
    "colab_type": "code",
    "id": "69bRGoOL1TOb"
   },
   "outputs": [],
   "source": [
    "np.save('data',data)\n",
    "np.save('target',new_target)"
   ]
  },
  {
   "cell_type": "code",
   "execution_count": 37,
   "metadata": {
    "colab": {},
    "colab_type": "code",
    "id": "P523qUnGZkyX"
   },
   "outputs": [],
   "source": [
    "from keras.models import Sequential\n",
    "from keras.layers import Dense, Activation, Flatten, Dropout, Conv2D, MaxPooling2D\n",
    "from keras.callbacks import ModelCheckpoint\n",
    "\n",
    "model=Sequential()\n",
    "\n",
    "model.add(Conv2D(200,(3,3),input_shape=data.shape[1:]))\n",
    "model.add(Activation('relu'))\n",
    "model.add(MaxPooling2D(pool_size=(2,2)))\n",
    "\n",
    "model.add(Conv2D(100,(3,3)))\n",
    "model.add(Activation('relu'))\n",
    "model.add(MaxPooling2D(pool_size=(2,2)))\n",
    "\n",
    "model.add(Flatten())\n",
    "model.add(Dense(50,activation='relu'))\n",
    "model.add(Dropout(0.5))\n",
    "model.add(Dense(2,activation='softmax'))\n",
    "\n",
    "model.compile(loss='categorical_crossentropy', optimizer='adam', metrics=['accuracy'])"
   ]
  },
  {
   "cell_type": "code",
   "execution_count": 38,
   "metadata": {
    "colab": {
     "base_uri": "https://localhost:8080/",
     "height": 85
    },
    "colab_type": "code",
    "id": "4fJYLbsPdhyK",
    "outputId": "57b4d560-17d2-498d-cdd7-d6ea8a6ae227"
   },
   "outputs": [
    {
     "name": "stdout",
     "output_type": "stream",
     "text": [
      "(1100, 100, 100, 1)\n",
      "(276, 100, 100, 1)\n",
      "(1100, 2)\n",
      "(276, 2)\n"
     ]
    }
   ],
   "source": [
    "from sklearn.model_selection import train_test_split\n",
    "\n",
    "train_data, test_data, train_target, test_target=train_test_split(data,new_target,test_size=0.2)\n",
    "print(train_data.shape)\n",
    "print(test_data.shape)\n",
    "print(train_target.shape)\n",
    "print(test_target.shape)"
   ]
  },
  {
   "cell_type": "code",
   "execution_count": 39,
   "metadata": {
    "colab": {
     "base_uri": "https://localhost:8080/",
     "height": 870
    },
    "colab_type": "code",
    "id": "kM01cWyret9V",
    "outputId": "c8d7b3bf-51e6-4251-aa3a-8f6395cbd1ff"
   },
   "outputs": [
    {
     "name": "stdout",
     "output_type": "stream",
     "text": [
      "Epoch 1/20\n",
      "28/28 [==============================] - ETA: 0s - loss: 0.7414 - accuracy: 0.4977INFO:tensorflow:Assets written to: model-001.model/assets\n",
      "28/28 [==============================] - 67s 2s/step - loss: 0.7414 - accuracy: 0.4977 - val_loss: 0.6621 - val_accuracy: 0.6909\n",
      "Epoch 2/20\n",
      "28/28 [==============================] - ETA: 0s - loss: 0.6339 - accuracy: 0.6318INFO:tensorflow:Assets written to: model-002.model/assets\n",
      "28/28 [==============================] - 67s 2s/step - loss: 0.6339 - accuracy: 0.6318 - val_loss: 0.5447 - val_accuracy: 0.6955\n",
      "Epoch 3/20\n",
      "28/28 [==============================] - ETA: 0s - loss: 0.4872 - accuracy: 0.7795INFO:tensorflow:Assets written to: model-003.model/assets\n",
      "28/28 [==============================] - 70s 3s/step - loss: 0.4872 - accuracy: 0.7795 - val_loss: 0.3797 - val_accuracy: 0.8455\n",
      "Epoch 4/20\n",
      "28/28 [==============================] - ETA: 0s - loss: 0.3406 - accuracy: 0.8614INFO:tensorflow:Assets written to: model-004.model/assets\n",
      "28/28 [==============================] - 66s 2s/step - loss: 0.3406 - accuracy: 0.8614 - val_loss: 0.2998 - val_accuracy: 0.8909\n",
      "Epoch 5/20\n",
      "28/28 [==============================] - ETA: 0s - loss: 0.2502 - accuracy: 0.9170INFO:tensorflow:Assets written to: model-005.model/assets\n",
      "28/28 [==============================] - 67s 2s/step - loss: 0.2502 - accuracy: 0.9170 - val_loss: 0.2247 - val_accuracy: 0.9136\n",
      "Epoch 6/20\n",
      "28/28 [==============================] - ETA: 0s - loss: 0.1977 - accuracy: 0.9341INFO:tensorflow:Assets written to: model-006.model/assets\n",
      "28/28 [==============================] - 67s 2s/step - loss: 0.1977 - accuracy: 0.9341 - val_loss: 0.2065 - val_accuracy: 0.9227\n",
      "Epoch 7/20\n",
      "28/28 [==============================] - 66s 2s/step - loss: 0.1574 - accuracy: 0.9443 - val_loss: 0.2238 - val_accuracy: 0.9364\n",
      "Epoch 8/20\n",
      "28/28 [==============================] - 66s 2s/step - loss: 0.1729 - accuracy: 0.9352 - val_loss: 0.3689 - val_accuracy: 0.8864\n",
      "Epoch 9/20\n",
      "28/28 [==============================] - 66s 2s/step - loss: 0.1711 - accuracy: 0.9398 - val_loss: 0.2426 - val_accuracy: 0.9455\n",
      "Epoch 10/20\n",
      "28/28 [==============================] - ETA: 0s - loss: 0.1036 - accuracy: 0.9659INFO:tensorflow:Assets written to: model-010.model/assets\n",
      "28/28 [==============================] - 67s 2s/step - loss: 0.1036 - accuracy: 0.9659 - val_loss: 0.2016 - val_accuracy: 0.9364\n",
      "Epoch 11/20\n",
      "28/28 [==============================] - 65s 2s/step - loss: 0.0935 - accuracy: 0.9682 - val_loss: 0.2378 - val_accuracy: 0.9409\n",
      "Epoch 12/20\n",
      "28/28 [==============================] - 69s 2s/step - loss: 0.0962 - accuracy: 0.9659 - val_loss: 0.2214 - val_accuracy: 0.9500\n",
      "Epoch 13/20\n",
      "28/28 [==============================] - 66s 2s/step - loss: 0.0737 - accuracy: 0.9716 - val_loss: 0.2675 - val_accuracy: 0.9545\n",
      "Epoch 14/20\n",
      "28/28 [==============================] - 66s 2s/step - loss: 0.0529 - accuracy: 0.9864 - val_loss: 0.2624 - val_accuracy: 0.9455\n",
      "Epoch 15/20\n",
      "28/28 [==============================] - ETA: 0s - loss: 0.0611 - accuracy: 0.9818INFO:tensorflow:Assets written to: model-015.model/assets\n",
      "28/28 [==============================] - 68s 2s/step - loss: 0.0611 - accuracy: 0.9818 - val_loss: 0.1900 - val_accuracy: 0.9409\n",
      "Epoch 16/20\n",
      "28/28 [==============================] - 66s 2s/step - loss: 0.0459 - accuracy: 0.9830 - val_loss: 0.3447 - val_accuracy: 0.9227\n",
      "Epoch 17/20\n",
      "28/28 [==============================] - 66s 2s/step - loss: 0.0551 - accuracy: 0.9795 - val_loss: 0.3843 - val_accuracy: 0.9227\n",
      "Epoch 18/20\n",
      "28/28 [==============================] - 66s 2s/step - loss: 0.0498 - accuracy: 0.9807 - val_loss: 0.2646 - val_accuracy: 0.9500\n",
      "Epoch 19/20\n",
      "28/28 [==============================] - 66s 2s/step - loss: 0.0283 - accuracy: 0.9898 - val_loss: 0.3001 - val_accuracy: 0.9545\n",
      "Epoch 20/20\n",
      "28/28 [==============================] - 65s 2s/step - loss: 0.0342 - accuracy: 0.9909 - val_loss: 0.2892 - val_accuracy: 0.9500\n"
     ]
    },
    {
     "data": {
      "text/plain": [
       "<tensorflow.python.keras.callbacks.History at 0x7fcf10e9b1d0>"
      ]
     },
     "execution_count": 39,
     "metadata": {
      "tags": []
     },
     "output_type": "execute_result"
    }
   ],
   "source": [
    "checkpoint = ModelCheckpoint('model-{epoch:03d}.model', monitor='val_loss', verbose=0, save_best_only=True, mode='auto')\n",
    "model.fit(train_data, train_target, epochs=20, callbacks=[checkpoint], validation_split=0.2)"
   ]
  },
  {
   "cell_type": "code",
   "execution_count": 40,
   "metadata": {
    "colab": {
     "base_uri": "https://localhost:8080/",
     "height": 51
    },
    "colab_type": "code",
    "id": "ss7AcD_W0_-i",
    "outputId": "fb97d6a8-315b-4777-e484-6bdd1d4d25b5"
   },
   "outputs": [
    {
     "name": "stdout",
     "output_type": "stream",
     "text": [
      "9/9 [==============================] - 5s 592ms/step - loss: 0.1478 - accuracy: 0.9493\n",
      "[0.14781707525253296, 0.9492753744125366]\n"
     ]
    }
   ],
   "source": [
    "print(model.evaluate(test_data,test_target))"
   ]
  },
  {
   "cell_type": "code",
   "execution_count": 41,
   "metadata": {
    "colab": {},
    "colab_type": "code",
    "id": "TcQk8sMn3mRS"
   },
   "outputs": [],
   "source": [
    "model.save_weights('model.h5')"
   ]
  },
  {
   "cell_type": "code",
   "execution_count": 47,
   "metadata": {
    "colab": {
     "base_uri": "https://localhost:8080/",
     "height": 119
    },
    "colab_type": "code",
    "id": "pBGDx6kqG5Jb",
    "outputId": "e4c71f4e-5ad2-4206-9dd3-67ae4cc34248"
   },
   "outputs": [
    {
     "name": "stdout",
     "output_type": "stream",
     "text": [
      "  adding: content/model-015.model/ (stored 0%)\n",
      "  adding: content/model-015.model/variables/ (stored 0%)\n",
      "  adding: content/model-015.model/variables/variables.index (deflated 63%)\n",
      "  adding: content/model-015.model/variables/variables.data-00000-of-00001 (deflated 17%)\n",
      "  adding: content/model-015.model/saved_model.pb (deflated 89%)\n",
      "  adding: content/model-015.model/assets/ (stored 0%)\n"
     ]
    }
   ],
   "source": [
    "!zip -r /content/file.zip /content/model-015.model"
   ]
  },
  {
   "cell_type": "code",
   "execution_count": 50,
   "metadata": {
    "colab": {},
    "colab_type": "code",
    "id": "0CKvhcRM7zUT"
   },
   "outputs": [],
   "source": [
    "from keras.models import load_model\n",
    "model = load_model('model-015.model')\n",
    "\n",
    "face_clf=cv2.CascadeClassifier('haarcascade_frontalface_default.xml')\n",
    "\n",
    "labels_dict={0:\"MASK\",1:\"NO MASK\"}\n",
    "color_dict={0:(0,255,0),1:(0,0,255)}"
   ]
  },
  {
   "cell_type": "code",
   "execution_count": 51,
   "metadata": {
    "colab": {
     "base_uri": "https://localhost:8080/",
     "height": 248
    },
    "colab_type": "code",
    "id": "8m8vIdLVCOrC",
    "outputId": "cb65e0a9-d7eb-4c9a-a72b-7e418d90953f"
   },
   "outputs": [
    {
     "ename": "error",
     "evalue": "ignored",
     "output_type": "error",
     "traceback": [
      "\u001b[0;31m---------------------------------------------------------------------------\u001b[0m",
      "\u001b[0;31merror\u001b[0m                                     Traceback (most recent call last)",
      "\u001b[0;32m<ipython-input-51-608497e3e691>\u001b[0m in \u001b[0;36m<module>\u001b[0;34m()\u001b[0m\n\u001b[1;32m      2\u001b[0m \u001b[0;32mwhile\u001b[0m\u001b[0;34m(\u001b[0m\u001b[0;32mTrue\u001b[0m\u001b[0;34m)\u001b[0m\u001b[0;34m:\u001b[0m\u001b[0;34m\u001b[0m\u001b[0;34m\u001b[0m\u001b[0m\n\u001b[1;32m      3\u001b[0m     \u001b[0mret\u001b[0m\u001b[0;34m,\u001b[0m\u001b[0mimg\u001b[0m\u001b[0;34m=\u001b[0m\u001b[0msource\u001b[0m\u001b[0;34m.\u001b[0m\u001b[0mread\u001b[0m\u001b[0;34m(\u001b[0m\u001b[0;34m)\u001b[0m\u001b[0;34m\u001b[0m\u001b[0;34m\u001b[0m\u001b[0m\n\u001b[0;32m----> 4\u001b[0;31m     \u001b[0mgray\u001b[0m\u001b[0;34m=\u001b[0m\u001b[0mcv2\u001b[0m\u001b[0;34m.\u001b[0m\u001b[0mcvtColor\u001b[0m\u001b[0;34m(\u001b[0m\u001b[0mimg\u001b[0m\u001b[0;34m,\u001b[0m\u001b[0mcv2\u001b[0m\u001b[0;34m.\u001b[0m\u001b[0mCOLOR_BGR2GRAY\u001b[0m\u001b[0;34m)\u001b[0m\u001b[0;34m\u001b[0m\u001b[0;34m\u001b[0m\u001b[0m\n\u001b[0m\u001b[1;32m      5\u001b[0m     \u001b[0mfaces\u001b[0m\u001b[0;34m=\u001b[0m\u001b[0mface_clf\u001b[0m\u001b[0;34m.\u001b[0m\u001b[0mdetectMultiScale\u001b[0m\u001b[0;34m(\u001b[0m\u001b[0mgray\u001b[0m\u001b[0;34m,\u001b[0m\u001b[0;36m1.3\u001b[0m\u001b[0;34m,\u001b[0m\u001b[0;36m5\u001b[0m\u001b[0;34m)\u001b[0m\u001b[0;34m\u001b[0m\u001b[0;34m\u001b[0m\u001b[0m\n\u001b[1;32m      6\u001b[0m \u001b[0;34m\u001b[0m\u001b[0m\n",
      "\u001b[0;31merror\u001b[0m: OpenCV(4.1.2) /io/opencv/modules/imgproc/src/color.cpp:182: error: (-215:Assertion failed) !_src.empty() in function 'cvtColor'\n"
     ]
    }
   ],
   "source": [
    "source=cv2.VideoCapture(0)\n",
    "while(True):\n",
    "    ret,img=source.read()\n",
    "    gray=cv2.cvtColor(img,cv2.COLOR_BGR2GRAY)\n",
    "    faces=face_clf.detectMultiScale(gray,1.3,5)  \n",
    "\n",
    "    for (x,y,w,h) in faces:\n",
    "    \n",
    "        face_img=gray[y:y+w,x:x+w]\n",
    "        resized=cv2.resize(face_img,(100,100))\n",
    "        normalized=resized/255.0\n",
    "        reshaped=np.reshape(normalized,(1,100,100,1))\n",
    "        result=model.predict(reshaped)\n",
    "\n",
    "        label=np.argmax(result,axis=1)[0]\n",
    "      \n",
    "        cv2.rectangle(img,(x,y),(x+w,y+h),color_dict[label],2)\n",
    "        cv2.rectangle(img,(x,y-40),(x+w,y),color_dict[label],-1)\n",
    "        cv2.putText(img, labels_dict[label], (x, y-10),cv2.FONT_HERSHEY_SIMPLEX,0.8,(255,255,255),2)\n",
    "        \n",
    "        \n",
    "    cv2.imshow('LIVE',img)\n",
    "    key=cv2.waitKey(1)\n",
    "    \n",
    "    if(key==27):\n",
    "        break\n",
    "        \n",
    "cv2.destroyAllWindows()\n",
    "source.release()\n",
    "  "
   ]
  }
 ],
 "metadata": {
  "colab": {
   "collapsed_sections": [],
   "name": "MaskDetector.ipynb",
   "provenance": []
  },
  "kernelspec": {
   "display_name": "Python 3",
   "language": "python",
   "name": "python3"
  },
  "language_info": {
   "codemirror_mode": {
    "name": "ipython",
    "version": 3
   },
   "file_extension": ".py",
   "mimetype": "text/x-python",
   "name": "python",
   "nbconvert_exporter": "python",
   "pygments_lexer": "ipython3",
   "version": "3.7.4"
  }
 },
 "nbformat": 4,
 "nbformat_minor": 1
}
