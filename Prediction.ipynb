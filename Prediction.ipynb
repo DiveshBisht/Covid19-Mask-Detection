{
 "cells": [
  {
   "cell_type": "code",
   "execution_count": 1,
   "metadata": {},
   "outputs": [],
   "source": [
    "from keras.models import load_model\n",
    "import numpy as np\n",
    "import cv2\n",
    "from keras.preprocessing import image"
   ]
  },
  {
   "cell_type": "code",
   "execution_count": 2,
   "metadata": {},
   "outputs": [],
   "source": [
    "model = load_model('mask_model')\n",
    "face_clf=cv2.CascadeClassifier('haarcascade_frontalface_default.xml')\n",
    "\n",
    "labels_dict={0:\"MASK\",1:\"NO MASK\"}\n",
    "color_dict={0:(0,255,0),1:(0,0,255)}"
   ]
  },
  {
   "cell_type": "code",
   "execution_count": 11,
   "metadata": {},
   "outputs": [
    {
     "data": {
      "text/plain": [
       "-1"
      ]
     },
     "execution_count": 11,
     "metadata": {},
     "output_type": "execute_result"
    }
   ],
   "source": [
    "img = image.load_img('30.jpg')\n",
    "img = np.array(img)\n",
    "gray=cv2.cvtColor(img,cv2.COLOR_BGR2GRAY)\n",
    "faces=face_clf.detectMultiScale(gray,1.3,5)  \n",
    "\n",
    "for (x,y,w,h) in faces:\n",
    "    face_img=gray[y:y+w,x:x+w]\n",
    "    resized=cv2.resize(face_img,(100,100))\n",
    "    normalized=resized/255.0\n",
    "    reshaped=np.reshape(normalized,(1,100,100,1))\n",
    "    result=model.predict(reshaped)\n",
    "\n",
    "    label=np.argmax(result,axis=1)[0]\n",
    "      \n",
    "    cv2.rectangle(img,(x,y),(x+w,y+h),color_dict[label],2)\n",
    "    cv2.rectangle(img,(x,y-40),(x+w,y),color_dict[label],-1)\n",
    "    cv2.putText(img, labels_dict[label], (x, y-10),cv2.FONT_HERSHEY_SIMPLEX,0.8,(255,255,255),2)\n",
    "        \n",
    "cv2.imwrite( \"Image.jpg\", img )\n",
    "cv2.imshow(\"Output\", img)\n",
    "cv2.waitKey(0)\n",
    "        "
   ]
  }
 ],
 "metadata": {
  "kernelspec": {
   "display_name": "Python 3",
   "language": "python",
   "name": "python3"
  },
  "language_info": {
   "codemirror_mode": {
    "name": "ipython",
    "version": 3
   },
   "file_extension": ".py",
   "mimetype": "text/x-python",
   "name": "python",
   "nbconvert_exporter": "python",
   "pygments_lexer": "ipython3",
   "version": "3.7.4"
  }
 },
 "nbformat": 4,
 "nbformat_minor": 2
}
